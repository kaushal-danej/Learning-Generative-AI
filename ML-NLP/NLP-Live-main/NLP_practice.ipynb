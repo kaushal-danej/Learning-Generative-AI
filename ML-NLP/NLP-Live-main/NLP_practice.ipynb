{
  "nbformat": 4,
  "nbformat_minor": 0,
  "metadata": {
    "colab": {
      "provenance": []
    },
    "kernelspec": {
      "name": "python3",
      "display_name": "Python 3"
    },
    "language_info": {
      "name": "python"
    }
  },
  "cells": [
    {
      "cell_type": "code",
      "execution_count": null,
      "metadata": {
        "id": "sEyFBXlrIUnM"
      },
      "outputs": [],
      "source": [
        "#Paragraph on Statue of unity\n",
        "paragraph = \"\"\"\n",
        " consortium comprising Turner Construction, Michael Graves and Associates and the Meinhardt Group supervised the project. The project took 57 months to complete – 15 months for planning, 40 months for construction and 2 months for handing over by the consortium.[23] The total cost of the project was estimated to be about ₹2,063 crore (equivalent to ₹33 billion or US$410 million in 2023) by the Government.[17] The tender bids for the first phase were invited in October 2013 and were closed in November 2013.[24]\n",
        "\n",
        "Narendra Modi, then serving as the Chief Minister of Gujarat, laid the statue's foundation stone on 31 October 2013, the 138th anniversary of Patel's birth.[25][26]\n",
        "\n",
        "Indian infrastructure company Larsen & Toubro won the contract on 27 October 2014 for its lowest bid of ₹2,989 crore (equivalent to ₹48 billion or US$600 million in 2023) for the design, construction and maintenance of the statue.[27][28] L&T commenced the construction on 31 October 2014. In the first phase of the project, ₹1,347 crore was earmarked for the main statue, ₹235 crore for the exhibition hall and convention centre, ₹83 crore for the bridge connecting the memorial to the mainland and ₹657 crore for the maintenance of the structure for a duration of 15 years after its completion.[27][28] The Sadhu Bet hillock was flattened from 70 metres to 55 metres to lay the foundation of the statue.[10]\n",
        "\n",
        "L&T employed over 3000 workers and 250 engineers in the statue's construction. The core of the statue used 210,000 cubic metres (7,400,000 cu ft) of cement and concrete, 6,500 tonnes of structural steel, and 18,500 tonnes of reinforced steel. The outer façade is made up of 1,700 tonnes of bronze plates and 1,850 tonnes of bronze cladding which in turn consists of 565 macro and 6000 micro panels. The bronze panels were cast in Jiangxi Tongqing Metal Handicrafts Co. Ltd (the TQ Art foundry) in China as facilities large enough for such casting were unavailable in India.[29][30][10] The bronze panels were transported over sea and then by road to a workshop near the construction site where they were assembled.[10]\n",
        "\n",
        "Local tribals belonging to the Tadvi tribe opposed the land acquisition for the development of tourism infrastructure around the statue.[31] Around 300 activists were arrested ahead of unveiling of the statue.[32] People of Kevadia, Kothi, Waghodia, Limbdi, Navagam, and Gora villages opposed the construction of the statue and demanded the restitution of the land rights over 375 hectares (927 acres) of land acquired earlier for the dam as well as for the formation of a new Garudeshwar subdistrict. They also opposed the formation of Kevadia Area Development Authority (KADA) and the construction of the Garudeshwar weir-cum-causeway project. The government of Gujarat accepted most of their demands.[33]\n",
        "\n",
        "Construction of the monument was completed in mid-October 2018; and the inaugural ceremony was held on 31 October 2018 (143rd birth anniversary of Vallabhbhai Patel), and was presided over by Prime Minister Narendra Modi.[34][35] The statue has been described as a tribute to Indian engineering skills.\n",
        "\"\"\""
      ]
    },
    {
      "cell_type": "code",
      "source": [
        "paragraph"
      ],
      "metadata": {
        "colab": {
          "base_uri": "https://localhost:8080/",
          "height": 156
        },
        "id": "-Y9PsPiXIpV2",
        "outputId": "ee112028-e845-4d0b-a667-3cde24ee0888"
      },
      "execution_count": null,
      "outputs": [
        {
          "output_type": "execute_result",
          "data": {
            "text/plain": [
              "\"\\n consortium comprising Turner Construction, Michael Graves and Associates and the Meinhardt Group supervised the project. The project took 57 months to complete – 15 months for planning, 40 months for construction and 2 months for handing over by the consortium.[23] The total cost of the project was estimated to be about ₹2,063 crore (equivalent to ₹33 billion or US$410 million in 2023) by the Government.[17] The tender bids for the first phase were invited in October 2013 and were closed in November 2013.[24]\\n\\nNarendra Modi, then serving as the Chief Minister of Gujarat, laid the statue's foundation stone on 31 October 2013, the 138th anniversary of Patel's birth.[25][26]\\n\\nIndian infrastructure company Larsen & Toubro won the contract on 27 October 2014 for its lowest bid of ₹2,989 crore (equivalent to ₹48 billion or US$600 million in 2023) for the design, construction and maintenance of the statue.[27][28] L&T commenced the construction on 31 October 2014. In the first phase of the project, ₹1,347 crore was earmarked for the main statue, ₹235 crore for the exhibition hall and convention centre, ₹83 crore for the bridge connecting the memorial to the mainland and ₹657 crore for the maintenance of the structure for a duration of 15 years after its completion.[27][28] The Sadhu Bet hillock was flattened from 70 metres to 55 metres to lay the foundation of the statue.[10]\\n\\nL&T employed over 3000 workers and 250 engineers in the statue's construction. The core of the statue used 210,000 cubic metres (7,400,000 cu ft) of cement and concrete, 6,500 tonnes of structural steel, and 18,500 tonnes of reinforced steel. The outer façade is made up of 1,700 tonnes of bronze plates and 1,850 tonnes of bronze cladding which in turn consists of 565 macro and 6000 micro panels. The bronze panels were cast in Jiangxi Tongqing Metal Handicrafts Co. Ltd (the TQ Art foundry) in China as facilities large enough for such casting were unavailable in India.[29][30][10] The bronze panels were transported over sea and then by road to a workshop near the construction site where they were assembled.[10]\\n\\nLocal tribals belonging to the Tadvi tribe opposed the land acquisition for the development of tourism infrastructure around the statue.[31] Around 300 activists were arrested ahead of unveiling of the statue.[32] People of Kevadia, Kothi, Waghodia, Limbdi, Navagam, and Gora villages opposed the construction of the statue and demanded the restitution of the land rights over 375 hectares (927 acres) of land acquired earlier for the dam as well as for the formation of a new Garudeshwar subdistrict. They also opposed the formation of Kevadia Area Development Authority (KADA) and the construction of the Garudeshwar weir-cum-causeway project. The government of Gujarat accepted most of their demands.[33]\\n\\nConstruction of the monument was completed in mid-October 2018; and the inaugural ceremony was held on 31 October 2018 (143rd birth anniversary of Vallabhbhai Patel), and was presided over by Prime Minister Narendra Modi.[34][35] The statue has been described as a tribute to Indian engineering skills.\\n\""
            ],
            "application/vnd.google.colaboratory.intrinsic+json": {
              "type": "string"
            }
          },
          "metadata": {},
          "execution_count": 2
        }
      ]
    },
    {
      "cell_type": "code",
      "source": [
        "import nltk\n",
        "from nltk.stem import PorterStemmer\n",
        "from nltk.corpus import stopwords"
      ],
      "metadata": {
        "id": "LqAOjjEMIrnG"
      },
      "execution_count": null,
      "outputs": []
    },
    {
      "cell_type": "code",
      "source": [
        "def downloadPackage(name):\n",
        "  nltk.download(name)"
      ],
      "metadata": {
        "id": "5gC50FPPJG5L"
      },
      "execution_count": null,
      "outputs": []
    },
    {
      "cell_type": "code",
      "source": [
        "downloadPackage('punkt')"
      ],
      "metadata": {
        "colab": {
          "base_uri": "https://localhost:8080/"
        },
        "id": "XcDslC-fJQIS",
        "outputId": "1de69405-c80d-44ea-c8ac-35ee042d992f"
      },
      "execution_count": null,
      "outputs": [
        {
          "output_type": "stream",
          "name": "stderr",
          "text": [
            "[nltk_data] Downloading package punkt to /root/nltk_data...\n",
            "[nltk_data]   Unzipping tokenizers/punkt.zip.\n"
          ]
        }
      ]
    },
    {
      "cell_type": "code",
      "source": [
        "sentences = nltk.sent_tokenize(paragraph)"
      ],
      "metadata": {
        "id": "1J0aFvldI98l"
      },
      "execution_count": null,
      "outputs": []
    },
    {
      "cell_type": "code",
      "source": [
        "sentences"
      ],
      "metadata": {
        "colab": {
          "base_uri": "https://localhost:8080/"
        },
        "id": "ybGA9W5cJEWX",
        "outputId": "2e8e5574-ab06-40a1-f983-663a99e36ba0"
      },
      "execution_count": null,
      "outputs": [
        {
          "output_type": "execute_result",
          "data": {
            "text/plain": [
              "['\\n consortium comprising Turner Construction, Michael Graves and Associates and the Meinhardt Group supervised the project.',\n",
              " 'The project took 57 months to complete – 15 months for planning, 40 months for construction and 2 months for handing over by the consortium.',\n",
              " '[23] The total cost of the project was estimated to be about ₹2,063 crore (equivalent to ₹33 billion or US$410 million in 2023) by the Government.',\n",
              " '[17] The tender bids for the first phase were invited in October 2013 and were closed in November 2013.',\n",
              " \"[24]\\n\\nNarendra Modi, then serving as the Chief Minister of Gujarat, laid the statue's foundation stone on 31 October 2013, the 138th anniversary of Patel's birth.\",\n",
              " '[25][26]\\n\\nIndian infrastructure company Larsen & Toubro won the contract on 27 October 2014 for its lowest bid of ₹2,989 crore (equivalent to ₹48 billion or US$600 million in 2023) for the design, construction and maintenance of the statue.',\n",
              " '[27][28] L&T commenced the construction on 31 October 2014.',\n",
              " 'In the first phase of the project, ₹1,347 crore was earmarked for the main statue, ₹235 crore for the exhibition hall and convention centre, ₹83 crore for the bridge connecting the memorial to the mainland and ₹657 crore for the maintenance of the structure for a duration of 15 years after its completion.',\n",
              " '[27][28] The Sadhu Bet hillock was flattened from 70 metres to 55 metres to lay the foundation of the statue.',\n",
              " \"[10]\\n\\nL&T employed over 3000 workers and 250 engineers in the statue's construction.\",\n",
              " 'The core of the statue used 210,000 cubic metres (7,400,000 cu ft) of cement and concrete, 6,500 tonnes of structural steel, and 18,500 tonnes of reinforced steel.',\n",
              " 'The outer façade is made up of 1,700 tonnes of bronze plates and 1,850 tonnes of bronze cladding which in turn consists of 565 macro and 6000 micro panels.',\n",
              " 'The bronze panels were cast in Jiangxi Tongqing Metal Handicrafts Co. Ltd (the TQ Art foundry) in China as facilities large enough for such casting were unavailable in India.',\n",
              " '[29][30][10] The bronze panels were transported over sea and then by road to a workshop near the construction site where they were assembled.',\n",
              " '[10]\\n\\nLocal tribals belonging to the Tadvi tribe opposed the land acquisition for the development of tourism infrastructure around the statue.',\n",
              " '[31] Around 300 activists were arrested ahead of unveiling of the statue.',\n",
              " '[32] People of Kevadia, Kothi, Waghodia, Limbdi, Navagam, and Gora villages opposed the construction of the statue and demanded the restitution of the land rights over 375 hectares (927 acres) of land acquired earlier for the dam as well as for the formation of a new Garudeshwar subdistrict.',\n",
              " 'They also opposed the formation of Kevadia Area Development Authority (KADA) and the construction of the Garudeshwar weir-cum-causeway project.',\n",
              " 'The government of Gujarat accepted most of their demands.',\n",
              " '[33]\\n\\nConstruction of the monument was completed in mid-October 2018; and the inaugural ceremony was held on 31 October 2018 (143rd birth anniversary of Vallabhbhai Patel), and was presided over by Prime Minister Narendra Modi.',\n",
              " '[34][35] The statue has been described as a tribute to Indian engineering skills.']"
            ]
          },
          "metadata": {},
          "execution_count": 8
        }
      ]
    },
    {
      "cell_type": "code",
      "source": [
        "#Applying stopword in Lemmatize\n",
        "from nltk.stem import WordNetLemmatizer\n",
        "lemmatizer = WordNetLemmatizer()\n",
        "\n",
        "downloadPackage('stopwords')\n",
        "downloadPackage('wordnet')"
      ],
      "metadata": {
        "colab": {
          "base_uri": "https://localhost:8080/"
        },
        "id": "GkX3OxgdJb2n",
        "outputId": "bd4023f5-9323-49ec-db01-5cab093c4d59"
      },
      "execution_count": null,
      "outputs": [
        {
          "output_type": "stream",
          "name": "stderr",
          "text": [
            "[nltk_data] Downloading package stopwords to /root/nltk_data...\n",
            "[nltk_data]   Package stopwords is already up-to-date!\n",
            "[nltk_data] Downloading package wordnet to /root/nltk_data...\n"
          ]
        }
      ]
    },
    {
      "cell_type": "code",
      "source": [
        "import re\n",
        "\n",
        "corpus = []\n",
        "for i in range(len(sentences)):\n",
        "  review = re.sub('[^a-zA-Z]',' ',sentences[i])\n",
        "  review = review.lower()\n",
        "  review = review.split()\n",
        "  review = [lemmatizer.lemmatize(word) for word in review if not word in set(stopwords.words('english'))]\n",
        "  review = ' '.join(review)\n",
        "  corpus.append(review)"
      ],
      "metadata": {
        "id": "uA7AQzUwKPzT"
      },
      "execution_count": null,
      "outputs": []
    },
    {
      "cell_type": "code",
      "source": [
        "from sklearn.feature_extraction.text import CountVectorizer\n",
        "cv=CountVectorizer(binary = True)"
      ],
      "metadata": {
        "id": "r6oJEIqyLXOS"
      },
      "execution_count": null,
      "outputs": []
    },
    {
      "cell_type": "code",
      "source": [
        "X=cv.fit_transform(corpus)"
      ],
      "metadata": {
        "id": "I8DXna6cLpEf"
      },
      "execution_count": null,
      "outputs": []
    },
    {
      "cell_type": "code",
      "source": [
        "cv.vocabulary_"
      ],
      "metadata": {
        "colab": {
          "base_uri": "https://localhost:8080/"
        },
        "id": "eQmEPHiYL-cU",
        "outputId": "d83a183d-ae15-4f97-d56d-4d406a46d539"
      },
      "execution_count": null,
      "outputs": [
        {
          "output_type": "execute_result",
          "data": {
            "text/plain": [
              "{'consortium': 43,\n",
              " 'comprising': 39,\n",
              " 'turner': 173,\n",
              " 'construction': 44,\n",
              " 'michael': 116,\n",
              " 'graf': 80,\n",
              " 'associate': 14,\n",
              " 'meinhardt': 112,\n",
              " 'group': 81,\n",
              " 'supervised': 157,\n",
              " 'project': 140,\n",
              " 'took': 163,\n",
              " 'month': 122,\n",
              " 'complete': 36,\n",
              " 'planning': 136,\n",
              " 'handing': 85,\n",
              " 'total': 164,\n",
              " 'cost': 48,\n",
              " 'estimated': 67,\n",
              " 'crore': 49,\n",
              " 'equivalent': 66,\n",
              " 'billion': 19,\n",
              " 'million': 119,\n",
              " 'government': 79,\n",
              " 'tender': 159,\n",
              " 'bid': 18,\n",
              " 'first': 71,\n",
              " 'phase': 135,\n",
              " 'invited': 93,\n",
              " 'october': 129,\n",
              " 'closed': 32,\n",
              " 'november': 128,\n",
              " 'narendra': 124,\n",
              " 'modi': 121,\n",
              " 'serving': 148,\n",
              " 'chief': 29,\n",
              " 'minister': 120,\n",
              " 'gujarat': 82,\n",
              " 'laid': 98,\n",
              " 'statue': 151,\n",
              " 'foundation': 74,\n",
              " 'stone': 153,\n",
              " 'th': 160,\n",
              " 'anniversary': 8,\n",
              " 'patel': 133,\n",
              " 'birth': 20,\n",
              " 'indian': 91,\n",
              " 'infrastructure': 92,\n",
              " 'company': 35,\n",
              " 'larsen': 101,\n",
              " 'toubro': 165,\n",
              " 'contract': 45,\n",
              " 'lowest': 105,\n",
              " 'design': 57,\n",
              " 'maintenance': 111,\n",
              " 'commenced': 34,\n",
              " 'earmarked': 61,\n",
              " 'main': 109,\n",
              " 'exhibition': 68,\n",
              " 'hall': 83,\n",
              " 'convention': 46,\n",
              " 'centre': 27,\n",
              " 'bridge': 21,\n",
              " 'connecting': 41,\n",
              " 'memorial': 113,\n",
              " 'mainland': 110,\n",
              " 'structure': 155,\n",
              " 'duration': 59,\n",
              " 'year': 184,\n",
              " 'completion': 38,\n",
              " 'sadhu': 146,\n",
              " 'bet': 17,\n",
              " 'hillock': 88,\n",
              " 'flattened': 72,\n",
              " 'metre': 115,\n",
              " 'lay': 102,\n",
              " 'employed': 62,\n",
              " 'worker': 182,\n",
              " 'engineer': 63,\n",
              " 'core': 47,\n",
              " 'used': 176,\n",
              " 'cubic': 51,\n",
              " 'cu': 50,\n",
              " 'ft': 76,\n",
              " 'cement': 26,\n",
              " 'concrete': 40,\n",
              " 'tonne': 162,\n",
              " 'structural': 154,\n",
              " 'steel': 152,\n",
              " 'reinforced': 142,\n",
              " 'outer': 131,\n",
              " 'fa': 69,\n",
              " 'ade': 5,\n",
              " 'made': 108,\n",
              " 'bronze': 22,\n",
              " 'plate': 137,\n",
              " 'cladding': 31,\n",
              " 'turn': 172,\n",
              " 'consists': 42,\n",
              " 'macro': 107,\n",
              " 'micro': 117,\n",
              " 'panel': 132,\n",
              " 'cast': 23,\n",
              " 'jiangxi': 94,\n",
              " 'tongqing': 161,\n",
              " 'metal': 114,\n",
              " 'handicraft': 84,\n",
              " 'co': 33,\n",
              " 'ltd': 106,\n",
              " 'tq': 167,\n",
              " 'art': 12,\n",
              " 'foundry': 75,\n",
              " 'china': 30,\n",
              " 'facility': 70,\n",
              " 'large': 100,\n",
              " 'enough': 65,\n",
              " 'casting': 24,\n",
              " 'unavailable': 174,\n",
              " 'india': 90,\n",
              " 'transported': 168,\n",
              " 'sea': 147,\n",
              " 'road': 145,\n",
              " 'workshop': 183,\n",
              " 'near': 126,\n",
              " 'site': 149,\n",
              " 'assembled': 13,\n",
              " 'local': 104,\n",
              " 'tribals': 169,\n",
              " 'belonging': 16,\n",
              " 'tadvi': 158,\n",
              " 'tribe': 170,\n",
              " 'opposed': 130,\n",
              " 'land': 99,\n",
              " 'acquisition': 2,\n",
              " 'development': 58,\n",
              " 'tourism': 166,\n",
              " 'around': 10,\n",
              " 'activist': 4,\n",
              " 'arrested': 11,\n",
              " 'ahead': 6,\n",
              " 'unveiling': 175,\n",
              " 'people': 134,\n",
              " 'kevadia': 96,\n",
              " 'kothi': 97,\n",
              " 'waghodia': 179,\n",
              " 'limbdi': 103,\n",
              " 'navagam': 125,\n",
              " 'gora': 78,\n",
              " 'village': 178,\n",
              " 'demanded': 55,\n",
              " 'restitution': 143,\n",
              " 'right': 144,\n",
              " 'hectare': 86,\n",
              " 'acre': 3,\n",
              " 'acquired': 1,\n",
              " 'earlier': 60,\n",
              " 'dam': 53,\n",
              " 'well': 181,\n",
              " 'formation': 73,\n",
              " 'new': 127,\n",
              " 'garudeshwar': 77,\n",
              " 'subdistrict': 156,\n",
              " 'also': 7,\n",
              " 'area': 9,\n",
              " 'authority': 15,\n",
              " 'kada': 95,\n",
              " 'weir': 180,\n",
              " 'cum': 52,\n",
              " 'causeway': 25,\n",
              " 'accepted': 0,\n",
              " 'demand': 54,\n",
              " 'monument': 123,\n",
              " 'completed': 37,\n",
              " 'mid': 118,\n",
              " 'inaugural': 89,\n",
              " 'ceremony': 28,\n",
              " 'held': 87,\n",
              " 'rd': 141,\n",
              " 'vallabhbhai': 177,\n",
              " 'presided': 138,\n",
              " 'prime': 139,\n",
              " 'described': 56,\n",
              " 'tribute': 171,\n",
              " 'engineering': 64,\n",
              " 'skill': 150}"
            ]
          },
          "metadata": {},
          "execution_count": 23
        }
      ]
    },
    {
      "cell_type": "code",
      "source": [
        "X[0].toarray()"
      ],
      "metadata": {
        "colab": {
          "base_uri": "https://localhost:8080/"
        },
        "id": "xJXISaWiMAjj",
        "outputId": "ca01f812-d74b-4bc1-9347-2ca0f796c108"
      },
      "execution_count": null,
      "outputs": [
        {
          "output_type": "execute_result",
          "data": {
            "text/plain": [
              "array([[0, 0, 0, 0, 0, 0, 0, 0, 0, 0, 0, 0, 0, 0, 1, 0, 0, 0, 0, 0, 0, 0,\n",
              "        0, 0, 0, 0, 0, 0, 0, 0, 0, 0, 0, 0, 0, 0, 0, 0, 0, 1, 0, 0, 0, 1,\n",
              "        1, 0, 0, 0, 0, 0, 0, 0, 0, 0, 0, 0, 0, 0, 0, 0, 0, 0, 0, 0, 0, 0,\n",
              "        0, 0, 0, 0, 0, 0, 0, 0, 0, 0, 0, 0, 0, 0, 1, 1, 0, 0, 0, 0, 0, 0,\n",
              "        0, 0, 0, 0, 0, 0, 0, 0, 0, 0, 0, 0, 0, 0, 0, 0, 0, 0, 0, 0, 0, 0,\n",
              "        0, 0, 1, 0, 0, 0, 1, 0, 0, 0, 0, 0, 0, 0, 0, 0, 0, 0, 0, 0, 0, 0,\n",
              "        0, 0, 0, 0, 0, 0, 0, 0, 1, 0, 0, 0, 0, 0, 0, 0, 0, 0, 0, 0, 0, 0,\n",
              "        0, 0, 0, 1, 0, 0, 0, 0, 0, 0, 0, 0, 0, 0, 0, 0, 0, 0, 0, 1, 0, 0,\n",
              "        0, 0, 0, 0, 0, 0, 0, 0, 0]])"
            ]
          },
          "metadata": {},
          "execution_count": 25
        }
      ]
    },
    {
      "cell_type": "code",
      "source": [],
      "metadata": {
        "id": "7TtlEHsBMHSr"
      },
      "execution_count": null,
      "outputs": []
    }
  ]
}